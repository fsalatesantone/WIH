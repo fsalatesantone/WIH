{
 "cells": [
  {
   "cell_type": "code",
   "execution_count": 2,
   "id": "a4316c64-0c9d-439d-963d-d7a894461340",
   "metadata": {},
   "outputs": [],
   "source": [
    "import pandas as pd\n",
    "import numpy as np\n",
    "from tqdm import tqdm\n",
    "# from pyathena import connect\n",
    "# from pyathena.pandas.util import as_pandas\n",
    "# import urllib.request as request\n",
    "\n",
    "# cursor = connect(\n",
    "#  region_name=\"eu-west-1\",\n",
    "#  s3_staging_dir=\"s3://wih.aws-athena-query-results.eu-west-1/\",\n",
    "#  work_group=\"primary\"\n",
    "#  ).cursor()\n",
    "\n",
    "pd.set_option(\"display.max_columns\", None)"
   ]
  },
  {
   "cell_type": "markdown",
   "id": "7740df9c-ea68-49cc-9eb7-2ce112034226",
   "metadata": {},
   "source": [
    "# Selezione OJA in target\n",
    "Ciclo per tutti i codici ISCO a 3 digit\n",
    "\n",
    "Perimetro considerato:\n",
    "- ITALIA\n",
    "- dal 3° trimestre 2022 in poi\n",
    "- Livello di istruzione almeno laurea\n",
    "- sorgenti dati stabili"
   ]
  },
  {
   "cell_type": "code",
   "execution_count": 7,
   "id": "78cecc99-b388-434f-b27d-34a0e8b8f5c1",
   "metadata": {},
   "outputs": [
    {
     "data": {
      "text/plain": [
       "74"
      ]
     },
     "execution_count": 7,
     "metadata": {},
     "output_type": "execute_result"
    }
   ],
   "source": [
    "# Offerta formativa Luiss\n",
    "offerta_liv4 = pd.read_parquet(\"./data/offerta_luiss/offerta_formativa_isco4.parquet\")\n",
    "occupations4d = offerta_liv4[['occupation4d_id']].drop_duplicates()\n",
    "occupations4d.shape[0]"
   ]
  },
  {
   "cell_type": "markdown",
   "id": "31f23d07-3d33-43b4-958d-21e8c32924b8",
   "metadata": {},
   "source": [
    "# Calcolo Skill per occupazione"
   ]
  },
  {
   "cell_type": "code",
   "execution_count": 31,
   "id": "bb0dafe7-2dec-4c78-804c-b5e26ef2fb5e",
   "metadata": {},
   "outputs": [
    {
     "name": "stderr",
     "output_type": "stream",
     "text": [
      "17it [03:40, 12.94s/it]\n",
      "17it [03:20, 11.80s/it]"
     ]
    },
    {
     "name": "stdout",
     "output_type": "stream",
     "text": [
      "CPU times: user 1.44 s, sys: 49.3 ms, total: 1.49 s\n",
      "Wall time: 7min\n"
     ]
    },
    {
     "name": "stderr",
     "output_type": "stream",
     "text": [
      "\n"
     ]
    }
   ],
   "source": [
    "%%time\n",
    "\n",
    "def skill_per_professione_oc_quarter(anno, quarter, month_start, month_end, country_it, out_parquet):\n",
    "\n",
    "    if country_it==True:\n",
    "        cnty = \"AND country='ITALIA'\"\n",
    "        territory = 'IT'\n",
    "    else:\n",
    "        cnty = \"\"\n",
    "        territory = 'EU'\n",
    "\n",
    "    for index, row in tqdm(occupations4d[['occupation4d_id']].drop_duplicates().iterrows()):\n",
    "        ocse4 = row['occupation4d_id']\n",
    "    \n",
    "        cursor.execute(f\"\"\"\n",
    "                SELECT '{territory}' as territory\n",
    "                    , first_active_year\n",
    "                    , {quarter} as quarter\n",
    "                    , occupation4d_id\n",
    "                    , skill_id\n",
    "                    , COUNT(DISTINCT oja_id) as n_oja\n",
    "                FROM wih_oja_latest.wih_oja_blended\n",
    "                WHERE source_stability='stable'\n",
    "                    AND education_id IN ('ED6', 'ED7', 'ED8')\n",
    "                    {cnty}\n",
    "                    AND first_active_year={anno}\n",
    "                    AND first_active_month>={month_start} and first_active_month<={month_end}\n",
    "                    AND occupation4d_id='{ocse4}'\n",
    "                GROUP BY '{territory}'\n",
    "                    , first_active_year\n",
    "                    , {quarter}\n",
    "                    , occupation4d_id\n",
    "                    , skill_id\n",
    "                ;\n",
    "        \"\"\")\n",
    "    \n",
    "        if index==0:\n",
    "            skill_q = as_pandas(cursor)\n",
    "        else:\n",
    "            skill_q = pd.concat([skill_q, as_pandas(cursor)])\n",
    "    \n",
    "    \n",
    "    skill_q.to_parquet(out_parquet)\n",
    "\n",
    "# IT: 2024 - T4\n",
    "skill_per_professione_oc_quarter(anno=2024, quarter=4, month_start=10, month_end=12, country_it=True, out_parquet=f\"./data/report/IT_skill_per_occupation_2024_T4.parquet\")\n",
    "# EU: 2024 - T4\n",
    "skill_per_professione_oc_quarter(anno=2024, quarter=4, month_start=10, month_end=12, country_it=False, out_parquet=f\"./data/report/EU_skill_per_occupation_2024_T4.parquet\")\n",
    "\n",
    "\n",
    "# IT: 2024 - T3\n",
    "skill_per_professione_oc_quarter(anno=2024, quarter=3, month_start=7, month_end=9, country_it=True, out_parquet=f\"./data/report/IT_skill_per_occupation_2024_T3.parquet\")\n",
    "# EU: 2024 - T3\n",
    "skill_per_professione_oc_quarter(anno=2024, quarter=3, month_start=7, month_end=9, country_it=False, out_parquet=f\"./data/report/EU_skill_per_occupation_2024_T3.parquet\")\n",
    "\n",
    "\n",
    "# IT: 2024 - T2\n",
    "skill_per_professione_oc_quarter(anno=2024, quarter=2, month_start=4, month_end=6, country_it=True, out_parquet=f\"./data/report/IT_skill_per_occupation_2024_T2.parquet\")\n",
    "# EU: 2024 - T2\n",
    "skill_per_professione_oc_quarter(anno=2024, quarter=2, month_start=4, month_end=6, country_it=False, out_parquet=f\"./data/report/EU_skill_per_occupation_2024_T2.parquet\")\n",
    "\n",
    "# IT: 2024 - T1\n",
    "skill_per_professione_oc_quarter(anno=2024, quarter=1, month_start=1, month_end=3, country_it=True, out_parquet=f\"./data/report/IT_skill_per_occupation_2024_T1.parquet\")\n",
    "# EU: 2024 - T1\n",
    "skill_per_professione_oc_quarter(anno=2024, quarter=1, month_start=1, month_end=3, country_it=False, out_parquet=f\"./data/report/EU_skill_per_occupation_2024_T1.parquet\")\n",
    "\n",
    "# IT: 2023 - T4\n",
    "skill_per_professione_oc_quarter(anno=2023, quarter=4, month_start=10, month_end=12, country_it=True, out_parquet=f\"./data/report/IT_skill_per_occupation_2023_T4.parquet\")\n",
    "# EU: 2023 - T4\n",
    "skill_per_professione_oc_quarter(anno=2023, quarter=4, month_start=10, month_end=12, country_it=False, out_parquet=f\"./data/report/EU_skill_per_occupation_2023_T4.parquet\")\n"
   ]
  },
  {
   "cell_type": "markdown",
   "id": "0f9c4ebd-5b93-4059-9ec2-572799e2a9b6",
   "metadata": {},
   "source": [
    "# Calcolo oja per occupazione"
   ]
  },
  {
   "cell_type": "code",
   "execution_count": 34,
   "id": "133b5c9d-47e0-4251-9911-aa3b184465ec",
   "metadata": {},
   "outputs": [
    {
     "name": "stderr",
     "output_type": "stream",
     "text": [
      "17it [03:16, 11.53s/it]\n",
      "17it [03:12, 11.32s/it]\n"
     ]
    }
   ],
   "source": [
    "def oja_per_professione_oc_quarter(anno, country_it, out_parquet):\n",
    "\n",
    "    if country_it==True:\n",
    "        cnty = \"AND country='ITALIA'\"\n",
    "        territory = 'IT'\n",
    "    else:\n",
    "        cnty = \"\"\n",
    "        territory = 'EU'\n",
    "\n",
    "    for index, row in tqdm(occupations4d[['occupation4d_id']].drop_duplicates().iterrows()):\n",
    "        ocse4 = row['occupation4d_id']\n",
    "    \n",
    "        cursor.execute(f\"\"\"\n",
    "                        SELECT '{territory}' as territory\n",
    "                            , first_active_year\n",
    "                            , CASE \n",
    "                                WHEN first_active_month >= 1 AND first_active_month <= 3 THEN 1\n",
    "                                WHEN first_active_month >= 4 AND first_active_month <= 6 THEN 2\n",
    "                                WHEN first_active_month >= 7 AND first_active_month <= 9 THEN 3\n",
    "                                WHEN first_active_month >= 10 AND first_active_month <= 12 THEN 4\n",
    "                              END as quarter\n",
    "                            , occupation4d_id\n",
    "                            , COUNT(DISTINCT oja_id) as n_oja\n",
    "                        FROM wih_oja_latest.wih_oja_blended\n",
    "                        WHERE source_stability = 'stable'\n",
    "                            AND education_id IN ('ED6', 'ED7', 'ED8')\n",
    "                            {cnty}\n",
    "                            AND first_active_year = {anno}\n",
    "                            AND first_active_month >= {month_start} AND first_active_month <= {month_end}\n",
    "                            AND occupation4d_id = '{ocse4}'\n",
    "                        GROUP BY '{territory}'\n",
    "                            , first_active_year\n",
    "                            , CASE \n",
    "                                WHEN first_active_month >= 1 AND first_active_month <= 3 THEN 1\n",
    "                                WHEN first_active_month >= 4 AND first_active_month <= 6 THEN 2\n",
    "                                WHEN first_active_month >= 7 AND first_active_month <= 9 THEN 3\n",
    "                                WHEN first_active_month >= 10 AND first_active_month <= 12 THEN 4\n",
    "                              END\n",
    "                            , occupation4d_id\n",
    "                    \"\"\")\n",
    "    \n",
    "        if index==0:\n",
    "            skill_q = as_pandas(cursor)\n",
    "        else:\n",
    "            skill_q = pd.concat([skill_q, as_pandas(cursor)])\n",
    "    \n",
    "    \n",
    "    skill_q.to_parquet(out_parquet)\n",
    "\n",
    "\n",
    "# IT: 2024 - T4\n",
    "oja_per_professione_oc_quarter(anno=2024, country_it=True, out_parquet=f\"./data/report/IT_oja_per_occupation_2024_T.parquet\")\n",
    "# EU: 2024 - T4\n",
    "oja_per_professione_oc_quarter(anno=2024, country_it=False, out_parquet=f\"./data/report/EU_oja_per_occupation_2024_T.parquet\")\n"
   ]
  }
 ],
 "metadata": {
  "kernelspec": {
   "display_name": "Python 3 (ipykernel)",
   "language": "python",
   "name": "python3"
  },
  "language_info": {
   "codemirror_mode": {
    "name": "ipython",
    "version": 3
   },
   "file_extension": ".py",
   "mimetype": "text/x-python",
   "name": "python",
   "nbconvert_exporter": "python",
   "pygments_lexer": "ipython3",
   "version": "3.11.8"
  }
 },
 "nbformat": 4,
 "nbformat_minor": 5
}
