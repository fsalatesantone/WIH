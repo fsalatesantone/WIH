{
 "cells": [
  {
   "cell_type": "code",
   "execution_count": 3,
   "id": "a4316c64-0c9d-439d-963d-d7a894461340",
   "metadata": {},
   "outputs": [],
   "source": [
    "import pandas as pd\n",
    "import numpy as np\n",
    "from tqdm import tqdm\n",
    "pd.set_option(\"display.max_columns\", None)"
   ]
  },
  {
   "cell_type": "markdown",
   "id": "e85cae3d-f138-4062-80c4-582682ebfd6a",
   "metadata": {},
   "source": [
    "# Offerta Luiss\n",
    "- Contiene la lista di *professioni per corso di studi*.\n",
    "\n",
    "- Il codice della professione fa riferimento alla **classificazione CP2021** dell'ISTAT.\n",
    "\n",
    "- Abbiamo quindi bisogno di transcodificarlo nel **codice ISCO-08** presente nel database OJA"
   ]
  },
  {
   "cell_type": "code",
   "execution_count": 4,
   "id": "de1c57e7-2be4-4eba-a262-6c8dfffad3ff",
   "metadata": {},
   "outputs": [
    {
     "name": "stdout",
     "output_type": "stream",
     "text": [
      "Numero di righe del file: 118\n",
      "cp2021 univoci: 54\n"
     ]
    },
    {
     "data": {
      "text/html": [
       "<div>\n",
       "<style scoped>\n",
       "    .dataframe tbody tr th:only-of-type {\n",
       "        vertical-align: middle;\n",
       "    }\n",
       "\n",
       "    .dataframe tbody tr th {\n",
       "        vertical-align: top;\n",
       "    }\n",
       "\n",
       "    .dataframe thead th {\n",
       "        text-align: right;\n",
       "    }\n",
       "</style>\n",
       "<table border=\"1\" class=\"dataframe\">\n",
       "  <thead>\n",
       "    <tr style=\"text-align: right;\">\n",
       "      <th></th>\n",
       "      <th>percorso</th>\n",
       "      <th>facolta</th>\n",
       "      <th>corso_studi_id</th>\n",
       "      <th>corso_studi_desc</th>\n",
       "      <th>cp2021</th>\n",
       "      <th>cp2021_desc</th>\n",
       "    </tr>\n",
       "  </thead>\n",
       "  <tbody>\n",
       "    <tr>\n",
       "      <th>0</th>\n",
       "      <td>LAUREE TRIENNALI</td>\n",
       "      <td>Global Law</td>\n",
       "      <td>L-14</td>\n",
       "      <td>Scienze dei servizi giuridici</td>\n",
       "      <td>2.5.2.2.2</td>\n",
       "      <td>Esperti legali in enti pubblici</td>\n",
       "    </tr>\n",
       "    <tr>\n",
       "      <th>1</th>\n",
       "      <td>LAUREE TRIENNALI</td>\n",
       "      <td>Global Law</td>\n",
       "      <td>L-14</td>\n",
       "      <td>Scienze dei servizi giuridici</td>\n",
       "      <td>3.4.5.4.0</td>\n",
       "      <td>Tecnici dei servizi di sicurezza privati e pro...</td>\n",
       "    </tr>\n",
       "  </tbody>\n",
       "</table>\n",
       "</div>"
      ],
      "text/plain": [
       "           percorso     facolta corso_studi_id               corso_studi_desc  \\\n",
       "0  LAUREE TRIENNALI  Global Law           L-14  Scienze dei servizi giuridici   \n",
       "1  LAUREE TRIENNALI  Global Law           L-14  Scienze dei servizi giuridici   \n",
       "\n",
       "      cp2021                                        cp2021_desc  \n",
       "0  2.5.2.2.2                    Esperti legali in enti pubblici  \n",
       "1  3.4.5.4.0  Tecnici dei servizi di sicurezza privati e pro...  "
      ]
     },
     "execution_count": 4,
     "metadata": {},
     "output_type": "execute_result"
    }
   ],
   "source": [
    "offerta = pd.read_excel(\"./data/offerta_luiss/offerta_formativa_luiss.xlsx\")\n",
    "offerta.columns = ['percorso', 'facolta', 'corso_studi_id', 'corso_studi_desc', 'cp2021', 'cp2021_desc']\n",
    "print(\"Numero di righe del file:\", offerta.shape[0])\n",
    "print(\"cp2021 univoci:\", offerta.cp2021.nunique())\n",
    "offerta.head(2)"
   ]
  },
  {
   "cell_type": "markdown",
   "id": "a2b5a0bb-448c-42f7-a655-2d1b337789ba",
   "metadata": {},
   "source": [
    "# Raccordo professioni ISTAT CP2021 vs ISCO-08\n",
    "Il raccordo è disponibile solo per il livello 4 dei codici ISCO-08"
   ]
  },
  {
   "cell_type": "code",
   "execution_count": 28,
   "id": "48d1605f-b58a-4ab4-ad03-c04d55df586d",
   "metadata": {},
   "outputs": [
    {
     "data": {
      "text/html": [
       "<div>\n",
       "<style scoped>\n",
       "    .dataframe tbody tr th:only-of-type {\n",
       "        vertical-align: middle;\n",
       "    }\n",
       "\n",
       "    .dataframe tbody tr th {\n",
       "        vertical-align: top;\n",
       "    }\n",
       "\n",
       "    .dataframe thead th {\n",
       "        text-align: right;\n",
       "    }\n",
       "</style>\n",
       "<table border=\"1\" class=\"dataframe\">\n",
       "  <thead>\n",
       "    <tr style=\"text-align: right;\">\n",
       "      <th></th>\n",
       "      <th>cp2021</th>\n",
       "      <th>occupation4d_id</th>\n",
       "    </tr>\n",
       "  </thead>\n",
       "  <tbody>\n",
       "    <tr>\n",
       "      <th>0</th>\n",
       "      <td>1.1.1.1.0</td>\n",
       "      <td>OC1111</td>\n",
       "    </tr>\n",
       "    <tr>\n",
       "      <th>5</th>\n",
       "      <td>1.1.1.2.0</td>\n",
       "      <td>OC1111</td>\n",
       "    </tr>\n",
       "    <tr>\n",
       "      <th>6</th>\n",
       "      <td>1.1.1.3.0</td>\n",
       "      <td>OC1111</td>\n",
       "    </tr>\n",
       "  </tbody>\n",
       "</table>\n",
       "</div>"
      ],
      "text/plain": [
       "      cp2021 occupation4d_id\n",
       "0  1.1.1.1.0          OC1111\n",
       "5  1.1.1.2.0          OC1111\n",
       "6  1.1.1.3.0          OC1111"
      ]
     },
     "execution_count": 28,
     "metadata": {},
     "output_type": "execute_result"
    }
   ],
   "source": [
    "raccordo_istat_isco4 = pd.read_parquet(\"./data/classificazioni/esco_raccordo_istat_isco4.parquet\")\n",
    "\n",
    "# recuperati manualmente\n",
    "# Non sono sicuro solo del primo, gli altri sono stati invece recuperati tramite uguale descrizione.\n",
    "raccordo_manuale = pd.DataFrame([{'cp2021': '3.3.2.6.1', 'occupation4d_id': 'OC3312'} \n",
    "                                 , {'cp2021': '2.7.1.1.2', 'occupation4d_id': 'OC2511'}\n",
    "                                 , {'cp2021': '2.7.1.1.2', 'occupation4d_id': 'OC2519'}\n",
    "                                 , {'cp2021': '2.7.1.1.1', 'occupation4d_id': 'OC2511'}\n",
    "                                 , {'cp2021': '2.7.1.1.1', 'occupation4d_id': 'OC2120'}\n",
    "                                 , {'cp2021': '2.7.1.1.1', 'occupation4d_id': 'OC2131'}\n",
    "                                 , {'cp2021': '2.7.1.1.1', 'occupation4d_id': 'OC2166'}\n",
    "                                 , {'cp2021': '2.7.1.1.1', 'occupation4d_id': 'OC2512'}\n",
    "                                 , {'cp2021': '2.7.1.1.1', 'occupation4d_id': 'OC2514'}\n",
    "                                 , {'cp2021': '2.7.1.1.1', 'occupation4d_id': 'OC2519'}\n",
    "                                 , {'cp2021': '2.7.1.1.3', 'occupation4d_id': 'OC2513'}\n",
    "                                 , {'cp2021': '2.7.1.1.3', 'occupation4d_id': 'OC2514'}\n",
    "                                 , {'cp2021': '2.7.2.1.3', 'occupation4d_id': 'OC2511'}\n",
    "                                 , {'cp2021': '2.7.2.1.3', 'occupation4d_id': 'OC2522'}\n",
    "                                 , {'cp2021': '2.7.2.1.2', 'occupation4d_id': 'OC2521'}\n",
    "                                ])\n",
    "\n",
    "raccordo_istat_isco4 = pd.concat([raccordo_istat_isco4, raccordo_manuale])[['cp2021', 'occupation4d_id']].drop_duplicates()\n",
    "raccordo_istat_isco4.head(3)"
   ]
  },
  {
   "cell_type": "code",
   "execution_count": 32,
   "id": "06107567-3010-4b55-a313-581d0a90dcc1",
   "metadata": {},
   "outputs": [
    {
     "name": "stdout",
     "output_type": "stream",
     "text": [
      "Numero di righe del file: 294\n",
      "cp2021 univoci: 54\n"
     ]
    }
   ],
   "source": [
    "offerta_isco08_liv4 = offerta.merge(raccordo_istat_isco4, how='left', on='cp2021')\n",
    "print(\"Numero di righe del file:\", offerta_isco08_liv4.shape[0])\n",
    "print(\"cp2021 univoci:\", offerta_isco08_liv4.cp2021.nunique())\n",
    "offerta_isco08_liv4.to_parquet(\"./data/offerta_luiss/offerta_formativa_isco4.parquet\")"
   ]
  }
 ],
 "metadata": {
  "kernelspec": {
   "display_name": "Python 3 (ipykernel)",
   "language": "python",
   "name": "python3"
  },
  "language_info": {
   "codemirror_mode": {
    "name": "ipython",
    "version": 3
   },
   "file_extension": ".py",
   "mimetype": "text/x-python",
   "name": "python",
   "nbconvert_exporter": "python",
   "pygments_lexer": "ipython3",
   "version": "3.11.8"
  }
 },
 "nbformat": 4,
 "nbformat_minor": 5
}
