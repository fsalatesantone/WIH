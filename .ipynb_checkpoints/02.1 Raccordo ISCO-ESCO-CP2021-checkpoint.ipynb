{
 "cells": [
  {
   "cell_type": "code",
   "execution_count": 1,
   "id": "b133cd47-5486-4afb-8912-1e18d952859f",
   "metadata": {},
   "outputs": [],
   "source": [
    "import pandas as pd\n",
    "import numpy as np\n",
    "from tqdm import tqdm\n",
    "pd.set_option(\"display.max_columns\", None)"
   ]
  },
  {
   "cell_type": "markdown",
   "id": "469b1b28-5d32-43b3-94df-0cb98aa4e6e5",
   "metadata": {},
   "source": [
    "# Ricostruire raccordo CP2021 con ISCO livello 4\n",
    "- [2025-03-26] F. Trentini ci ha indicato il database scaricabile da qui:https://esco.ec.europa.eu/en/use-esco/download con il raccordo in oggetto.\n",
    "Si scarica un file .zip che contiene una serie di csv"
   ]
  },
  {
   "cell_type": "markdown",
   "id": "ca672475-6707-4dc8-9591-2322c41f1960",
   "metadata": {},
   "source": [
    "## Transcodifica dei codici URI delle professioni"
   ]
  },
  {
   "cell_type": "code",
   "execution_count": 82,
   "id": "238aa44a-74e8-4b83-85ba-48a2051996ab",
   "metadata": {},
   "outputs": [],
   "source": [
    "# Read the CSV starting from the header line\n",
    "\n",
    "# OCCUPATIONS\n",
    "occupations = (pd.read_csv(\"./data/classificazioni/ESCO dataset - v1.1.1 - classification - en - csv/occupations_en.csv\", dtype=str)\n",
    "               [['conceptUri', 'code', 'preferredLabel', 'iscoGroup']]\n",
    "               .rename(columns={'conceptUri': 'occupationUri'\n",
    "                                , 'code': 'occupation_code'\n",
    "                                , 'preferredLabel': 'occupation_descr'\n",
    "                                , 'iscoGroup': 'occupation4d_id'})\n",
    "              )\n",
    "occupations['occupation4d_id'] = 'OC'+occupations['occupation4d_id']\n",
    "occupations.to_parquet(\"./data/classificazioni/esco_occupations_isco_4.parquet\")\n",
    "\n",
    "\n",
    "# Skill (prendo questo file perché ha già il codice usato nel DB WIH)\n",
    "skills = (pd.read_excel(\"./data/codelist_escoskill_v111_v1.xlsx\")\n",
    "          [['skill_id', 'esco_v0101_uri', 'esco_v0101_description']]\n",
    "          .rename(columns={'esco_v0101_uri': 'skillUri'\n",
    "                           , 'esco_v0101_description': 'skill_descr'})\n",
    "         )\n",
    "\n",
    "\n",
    "# RELATIONS OCCUPATIONS-SKILLS (skill per professione decise a tavolino)\n",
    "occupation_skill_relations = (pd.read_csv(\"./data/classificazioni/ESCO dataset - v1.1.1 - classification - en - csv/occupationSkillRelations_en.csv\", dtype=str)\n",
    "                              .merge(occupations, on='occupationUri', how='inner') # Si perdono 67 combinazioni su oltre 23.000\n",
    "                              .merge(skills, on='skillUri', how='inner') # Si duplicano delle righe perché per alcuni URI abbiamo più skill_id --> Va bene!\n",
    "                             )[['occupationUri', 'occupation_code', 'occupation_descr', 'occupation4d_id'\n",
    "                                , 'relationType'\n",
    "                                , 'skillUri'\n",
    "                                , 'skill_id'\n",
    "                                , 'skill_descr'\n",
    "                               ]]\n",
    "occupation_skill_relations.to_parquet(\"./data/classificazioni/esco_occupation_skill_relations.parquet\")\n",
    "\n"
   ]
  },
  {
   "cell_type": "markdown",
   "id": "ec7143f0-1fa8-4602-8e7a-794fdf54dd32",
   "metadata": {},
   "source": [
    "## Creazione raccordo CP2021 - ISCO 4 digit"
   ]
  },
  {
   "cell_type": "code",
   "execution_count": 83,
   "id": "cfd4b200-971b-4f4c-af02-7cc8c74f6925",
   "metadata": {},
   "outputs": [],
   "source": [
    "map_transcode = (pd.read_csv(\"./data/classificazioni/EURESmapping_occs_IT.csv\", skiprows=16)\n",
    "                 .rename(columns={'Classification 1 URI': 'occupationUri'\n",
    "                                  , 'Classification 2 ID': 'cp2021'\n",
    "                                 })\n",
    "                 [['occupationUri', 'cp2021']]\n",
    "                 .merge(occupations, how='inner', on='occupationUri')\n",
    "                )\n",
    "\n",
    "\n",
    "raccordo_istat_isco4 = (map_transcode[['cp2021', 'occupation4d_id']].drop_duplicates()\n",
    "                        .sort_values(by=['cp2021', 'occupation4d_id'])\n",
    "                        .query(\"cp2021.isnull()==False and occupation4d_id.isnull()==False\", engine='python')\n",
    "                       )\n",
    "raccordo_istat_isco4.to_parquet(\"./data/classificazioni/esco_raccordo_istat_isco4.parquet\")"
   ]
  }
 ],
 "metadata": {
  "kernelspec": {
   "display_name": "Python 3 (ipykernel)",
   "language": "python",
   "name": "python3"
  },
  "language_info": {
   "codemirror_mode": {
    "name": "ipython",
    "version": 3
   },
   "file_extension": ".py",
   "mimetype": "text/x-python",
   "name": "python",
   "nbconvert_exporter": "python",
   "pygments_lexer": "ipython3",
   "version": "3.11.8"
  },
  "toc-autonumbering": true
 },
 "nbformat": 4,
 "nbformat_minor": 5
}
